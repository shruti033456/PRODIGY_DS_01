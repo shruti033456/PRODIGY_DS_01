{
  "nbformat": 4,
  "nbformat_minor": 0,
  "metadata": {
    "colab": {
      "provenance": [],
      "authorship_tag": "ABX9TyPKuoRu7c1AJjUdxv6H2EOm",
      "include_colab_link": true
    },
    "kernelspec": {
      "name": "python3",
      "display_name": "Python 3"
    },
    "language_info": {
      "name": "python"
    }
  },
  "cells": [
    {
      "cell_type": "markdown",
      "metadata": {
        "id": "view-in-github",
        "colab_type": "text"
      },
      "source": [
        "<a href=\"https://colab.research.google.com/github/shruti033456/PRODIGY_DS_01/blob/main/Untitled10.ipynb\" target=\"_parent\"><img src=\"https://colab.research.google.com/assets/colab-badge.svg\" alt=\"Open In Colab\"/></a>"
      ]
    },
    {
      "cell_type": "code",
      "execution_count": 31,
      "metadata": {
        "id": "oJJMe4EThFQq"
      },
      "outputs": [],
      "source": [
        "import matplotlib.pyplot as plt\n",
        "import numpy as np\n",
        "import pandas as pd\n",
        "import seaborn as sns"
      ]
    },
    {
      "cell_type": "code",
      "source": [
        "data = pd.read_csv('Data.csv',  encoding='utf-8')"
      ],
      "metadata": {
        "id": "N0SCrtQ_k2bM"
      },
      "execution_count": 40,
      "outputs": []
    },
    {
      "cell_type": "code",
      "source": [
        "print(data)"
      ],
      "metadata": {
        "colab": {
          "base_uri": "https://localhost:8080/"
        },
        "id": "i9UcBCEFr8_E",
        "outputId": "ec8fe517-f695-406c-cc8e-55773ddee832"
      },
      "execution_count": 41,
      "outputs": [
        {
          "output_type": "stream",
          "name": "stdout",
          "text": [
            "       applicant_id  years_of_insurance_with_us  regular_checkup_lasy_year  \\\n",
            "0              5000                           3                          1   \n",
            "1              5001                           0                          0   \n",
            "2              5002                           1                          0   \n",
            "3              5003                           7                          4   \n",
            "4              5004                           3                          1   \n",
            "...             ...                         ...                        ...   \n",
            "24995         29995                           3                          0   \n",
            "24996         29996                           6                          0   \n",
            "24997         29997                           7                          0   \n",
            "24998         29998                           1                          0   \n",
            "24999         29999                           8                          2   \n",
            "\n",
            "       adventure_sports Occupation  visited_doctor_last_1_year  \\\n",
            "0                     1    Salried                           2   \n",
            "1                     0    Student                           4   \n",
            "2                     0   Business                           4   \n",
            "3                     0   Business                           2   \n",
            "4                     0    Student                           2   \n",
            "...                 ...        ...                         ...   \n",
            "24995                 0    Salried                           4   \n",
            "24996                 0   Business                           4   \n",
            "24997                 1    Student                           2   \n",
            "24998                 0    Salried                           2   \n",
            "24999                 0   Business                           4   \n",
            "\n",
            "      cholesterol_level  daily_avg_steps  age  heart_decs_history  ...  \\\n",
            "0            125 to 150             4866   28                   1  ...   \n",
            "1            150 to 175             6411   50                   0  ...   \n",
            "2            200 to 225             4509   68                   0  ...   \n",
            "3            175 to 200             6214   51                   0  ...   \n",
            "4            150 to 175             4938   44                   0  ...   \n",
            "...                 ...              ...  ...                 ...  ...   \n",
            "24995        225 to 250             5614   22                   0  ...   \n",
            "24996        200 to 225             4719   58                   0  ...   \n",
            "24997        150 to 175             5624   34                   0  ...   \n",
            "24998        225 to 250            10777   27                   0  ...   \n",
            "24999        150 to 175             5882   22                   1  ...   \n",
            "\n",
            "        smoking_status Year_last_admitted     Location  weight  \\\n",
            "0              Unknown                NaN      Chennai      67   \n",
            "1      formerly smoked                NaN       Jaipur      58   \n",
            "2      formerly smoked                NaN       Jaipur      73   \n",
            "3              Unknown                NaN      Chennai      71   \n",
            "4         never smoked             2004.0    Bangalore      74   \n",
            "...                ...                ...          ...     ...   \n",
            "24995           smokes             2000.0       Kanpur      79   \n",
            "24996     never smoked             2009.0       Kanpur      66   \n",
            "24997          Unknown                NaN  Bhubaneswar      76   \n",
            "24998          Unknown                NaN        Surat      74   \n",
            "24999  formerly smoked             2014.0      Chennai      57   \n",
            "\n",
            "      covered_by_any_other_company  Alcohol  exercise  \\\n",
            "0                                N     Rare  Moderate   \n",
            "1                                N     Rare  Moderate   \n",
            "2                                N    Daily   Extreme   \n",
            "3                                Y     Rare        No   \n",
            "4                                N       No   Extreme   \n",
            "...                            ...      ...       ...   \n",
            "24995                            Y     Rare  Moderate   \n",
            "24996                            N     Rare  Moderate   \n",
            "24997                            N     Rare  Moderate   \n",
            "24998                            N     Rare  Moderate   \n",
            "24999                            N       No        No   \n",
            "\n",
            "       weight_change_in_last_one_year fat_percentage insurance_cost  \n",
            "0                                   1             25          20978  \n",
            "1                                   3             27           6170  \n",
            "2                                   0             32          28382  \n",
            "3                                   3             37          27148  \n",
            "4                                   0             34          29616  \n",
            "...                               ...            ...            ...  \n",
            "24995                               4             40          39488  \n",
            "24996                               2             28          14808  \n",
            "24997                               1             35          33318  \n",
            "24998                               0             40          30850  \n",
            "24999                               4             21           6170  \n",
            "\n",
            "[25000 rows x 24 columns]\n"
          ]
        }
      ]
    },
    {
      "cell_type": "code",
      "source": [
        "print(isinstance(data,pd.DataFrame))"
      ],
      "metadata": {
        "colab": {
          "base_uri": "https://localhost:8080/"
        },
        "id": "ebzA4hiysBgc",
        "outputId": "ecc54a67-f2aa-492e-9746-d012508d5412"
      },
      "execution_count": 42,
      "outputs": [
        {
          "output_type": "stream",
          "name": "stdout",
          "text": [
            "True\n"
          ]
        }
      ]
    },
    {
      "cell_type": "code",
      "source": [
        "print(data.columns)"
      ],
      "metadata": {
        "colab": {
          "base_uri": "https://localhost:8080/"
        },
        "id": "WPuNd-p9sL5P",
        "outputId": "13fc51da-6597-4976-c12f-1c857580ab20"
      },
      "execution_count": 43,
      "outputs": [
        {
          "output_type": "stream",
          "name": "stdout",
          "text": [
            "Index(['applicant_id', 'years_of_insurance_with_us',\n",
            "       'regular_checkup_lasy_year', 'adventure_sports', 'Occupation',\n",
            "       'visited_doctor_last_1_year', 'cholesterol_level', 'daily_avg_steps',\n",
            "       'age', 'heart_decs_history', 'other_major_decs_history', 'Gender',\n",
            "       'avg_glucose_level', 'bmi', 'smoking_status', 'Year_last_admitted',\n",
            "       'Location', 'weight', 'covered_by_any_other_company', 'Alcohol',\n",
            "       'exercise', 'weight_change_in_last_one_year', 'fat_percentage',\n",
            "       'insurance_cost'],\n",
            "      dtype='object')\n"
          ]
        }
      ]
    },
    {
      "cell_type": "code",
      "source": [
        "data.head"
      ],
      "metadata": {
        "colab": {
          "base_uri": "https://localhost:8080/"
        },
        "id": "3m24KULalV_9",
        "outputId": "709cac9a-483a-461b-9063-b7eb1d3021bd"
      },
      "execution_count": 44,
      "outputs": [
        {
          "output_type": "execute_result",
          "data": {
            "text/plain": [
              "<bound method NDFrame.head of        applicant_id  years_of_insurance_with_us  regular_checkup_lasy_year  \\\n",
              "0              5000                           3                          1   \n",
              "1              5001                           0                          0   \n",
              "2              5002                           1                          0   \n",
              "3              5003                           7                          4   \n",
              "4              5004                           3                          1   \n",
              "...             ...                         ...                        ...   \n",
              "24995         29995                           3                          0   \n",
              "24996         29996                           6                          0   \n",
              "24997         29997                           7                          0   \n",
              "24998         29998                           1                          0   \n",
              "24999         29999                           8                          2   \n",
              "\n",
              "       adventure_sports Occupation  visited_doctor_last_1_year  \\\n",
              "0                     1    Salried                           2   \n",
              "1                     0    Student                           4   \n",
              "2                     0   Business                           4   \n",
              "3                     0   Business                           2   \n",
              "4                     0    Student                           2   \n",
              "...                 ...        ...                         ...   \n",
              "24995                 0    Salried                           4   \n",
              "24996                 0   Business                           4   \n",
              "24997                 1    Student                           2   \n",
              "24998                 0    Salried                           2   \n",
              "24999                 0   Business                           4   \n",
              "\n",
              "      cholesterol_level  daily_avg_steps  age  heart_decs_history  ...  \\\n",
              "0            125 to 150             4866   28                   1  ...   \n",
              "1            150 to 175             6411   50                   0  ...   \n",
              "2            200 to 225             4509   68                   0  ...   \n",
              "3            175 to 200             6214   51                   0  ...   \n",
              "4            150 to 175             4938   44                   0  ...   \n",
              "...                 ...              ...  ...                 ...  ...   \n",
              "24995        225 to 250             5614   22                   0  ...   \n",
              "24996        200 to 225             4719   58                   0  ...   \n",
              "24997        150 to 175             5624   34                   0  ...   \n",
              "24998        225 to 250            10777   27                   0  ...   \n",
              "24999        150 to 175             5882   22                   1  ...   \n",
              "\n",
              "        smoking_status Year_last_admitted     Location  weight  \\\n",
              "0              Unknown                NaN      Chennai      67   \n",
              "1      formerly smoked                NaN       Jaipur      58   \n",
              "2      formerly smoked                NaN       Jaipur      73   \n",
              "3              Unknown                NaN      Chennai      71   \n",
              "4         never smoked             2004.0    Bangalore      74   \n",
              "...                ...                ...          ...     ...   \n",
              "24995           smokes             2000.0       Kanpur      79   \n",
              "24996     never smoked             2009.0       Kanpur      66   \n",
              "24997          Unknown                NaN  Bhubaneswar      76   \n",
              "24998          Unknown                NaN        Surat      74   \n",
              "24999  formerly smoked             2014.0      Chennai      57   \n",
              "\n",
              "      covered_by_any_other_company  Alcohol  exercise  \\\n",
              "0                                N     Rare  Moderate   \n",
              "1                                N     Rare  Moderate   \n",
              "2                                N    Daily   Extreme   \n",
              "3                                Y     Rare        No   \n",
              "4                                N       No   Extreme   \n",
              "...                            ...      ...       ...   \n",
              "24995                            Y     Rare  Moderate   \n",
              "24996                            N     Rare  Moderate   \n",
              "24997                            N     Rare  Moderate   \n",
              "24998                            N     Rare  Moderate   \n",
              "24999                            N       No        No   \n",
              "\n",
              "       weight_change_in_last_one_year fat_percentage insurance_cost  \n",
              "0                                   1             25          20978  \n",
              "1                                   3             27           6170  \n",
              "2                                   0             32          28382  \n",
              "3                                   3             37          27148  \n",
              "4                                   0             34          29616  \n",
              "...                               ...            ...            ...  \n",
              "24995                               4             40          39488  \n",
              "24996                               2             28          14808  \n",
              "24997                               1             35          33318  \n",
              "24998                               0             40          30850  \n",
              "24999                               4             21           6170  \n",
              "\n",
              "[25000 rows x 24 columns]>"
            ]
          },
          "metadata": {},
          "execution_count": 44
        }
      ]
    },
    {
      "cell_type": "code",
      "source": [
        "data.columns"
      ],
      "metadata": {
        "colab": {
          "base_uri": "https://localhost:8080/"
        },
        "id": "PNJujbOAlx6t",
        "outputId": "b43e9688-eb5d-4655-ba0e-1d32da05a99e"
      },
      "execution_count": 34,
      "outputs": [
        {
          "output_type": "execute_result",
          "data": {
            "text/plain": [
              "Index(['applicant_id', 'years_of_insurance_with_us',\n",
              "       'regular_checkup_lasy_year', 'adventure_sports', 'Occupation',\n",
              "       'visited_doctor_last_1_year', 'cholesterol_level', 'daily_avg_steps',\n",
              "       'heart_decs_history', 'other_major_decs_history', 'Gender',\n",
              "       'avg_glucose_level', 'bmi', 'smoking_status', 'Year_last_admitted',\n",
              "       'Location', 'weight', 'covered_by_any_other_company', 'Alcohol',\n",
              "       'exercise', 'weight_change_in_last_one_year', 'fat_percentage',\n",
              "       'insurance_cost'],\n",
              "      dtype='object')"
            ]
          },
          "metadata": {},
          "execution_count": 34
        }
      ]
    },
    {
      "cell_type": "code",
      "source": [
        "age_counts = data['age'].value_counts()"
      ],
      "metadata": {
        "id": "9NRYD_R0lh5M"
      },
      "execution_count": 59,
      "outputs": []
    },
    {
      "cell_type": "code",
      "source": [
        "print(type(age_counts))"
      ],
      "metadata": {
        "colab": {
          "base_uri": "https://localhost:8080/"
        },
        "id": "v5DhPJknvcxQ",
        "outputId": "7e541e36-328d-4a5e-8aa8-afe357884d7e"
      },
      "execution_count": 60,
      "outputs": [
        {
          "output_type": "stream",
          "name": "stdout",
          "text": [
            "<class 'pandas.core.series.Series'>\n"
          ]
        }
      ]
    },
    {
      "cell_type": "code",
      "source": [
        "plt.bar(age_counts.index, age_counts)\n",
        "plt.xlabel(\"age\")\n",
        "plt.ylabel(\"frequency\")\n",
        "plt.title(\"which age-group takes health insurance most?\")\n",
        "plt.show"
      ],
      "metadata": {
        "colab": {
          "base_uri": "https://localhost:8080/",
          "height": 490
        },
        "id": "6iwBjh58u-Nd",
        "outputId": "f0d0a6bb-c383-49b9-babb-8ffb9ec74556"
      },
      "execution_count": 62,
      "outputs": [
        {
          "output_type": "execute_result",
          "data": {
            "text/plain": [
              "<function matplotlib.pyplot.show(close=None, block=None)>"
            ]
          },
          "metadata": {},
          "execution_count": 62
        },
        {
          "output_type": "display_data",
          "data": {
            "text/plain": [
              "<Figure size 640x480 with 1 Axes>"
            ],
            "image/png": "[encoded data removed]"
          },
          "metadata": {}
        }
      ]
    }
  ]
}